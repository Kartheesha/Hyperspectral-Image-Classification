{
  "cells": [
    {
      "cell_type": "code",
      "execution_count": 11,
      "metadata": {
        "execution": {
          "iopub.execute_input": "2022-03-16T09:33:11.244412Z",
          "iopub.status.busy": "2022-03-16T09:33:11.244061Z",
          "iopub.status.idle": "2022-03-16T09:33:11.252381Z",
          "shell.execute_reply": "2022-03-16T09:33:11.251598Z",
          "shell.execute_reply.started": "2022-03-16T09:33:11.244374Z"
        },
        "id": "8xudmk3rbBQG",
        "trusted": true
      },
      "outputs": [],
      "source": [
        "\n",
        "import numpy as np\n",
        "from scipy.io import loadmat\n",
        "import pandas as pd\n",
        "from sklearn.model_selection import train_test_split\n",
        "from sklearn.metrics import  classification_report\n",
        "import tensorflow as tf\n",
        "from tensorflow import keras\n",
        "from tensorflow.keras.layers import Input, Dense, Dropout, BatchNormalization\n",
        "from tensorflow.keras.models import Sequential"
      ]
    },
    {
      "cell_type": "code",
      "execution_count": 12,
      "metadata": {
        "execution": {
          "iopub.execute_input": "2022-03-16T09:42:42.741695Z",
          "iopub.status.busy": "2022-03-16T09:42:42.740635Z",
          "iopub.status.idle": "2022-03-16T09:42:43.267178Z",
          "shell.execute_reply": "2022-03-16T09:42:43.266238Z",
          "shell.execute_reply.started": "2022-03-16T09:42:42.741638Z"
        },
        "id": "06DBqqw0bBQG",
        "trusted": true
      },
      "outputs": [],
      "source": [
        "data = loadmat('/content/PaviaU.mat')['paviaU']\n",
        "\n",
        "gt = loadmat('/content/PaviaU_gt.mat')['paviaU_gt']\n",
        "\n",
        "df = pd.DataFrame(data.reshape(data.shape[0]*data.shape[1], -1))\n",
        "\n",
        "df.columns = [f'band{i}' for i in range(1, df.shape[-1]+1)]\n",
        "\n",
        "df['class'] = gt.ravel()"
      ]
    },
    {
      "cell_type": "code",
      "execution_count": 13,
      "metadata": {
        "colab": {
          "base_uri": "https://localhost:8080/"
        },
        "execution": {
          "iopub.execute_input": "2022-03-16T09:44:21.83671Z",
          "iopub.status.busy": "2022-03-16T09:44:21.836271Z",
          "iopub.status.idle": "2022-03-16T09:44:22.303869Z",
          "shell.execute_reply": "2022-03-16T09:44:22.303073Z",
          "shell.execute_reply.started": "2022-03-16T09:44:21.836677Z"
        },
        "id": "9dha_D5GbBQI",
        "outputId": "d7c85ef4-1759-42a1-cd66-f1bacff412ac",
        "trusted": true
      },
      "outputs": [
        {
          "name": "stdout",
          "output_type": "stream",
          "text": [
            "Train Data: (29943, 103)\n",
            "Test Data: (12833, 103)\n"
          ]
        }
      ],
      "source": [
        "X = df[df['class']!=0].iloc[:, :-1].values\n",
        "\n",
        "y = tf.keras.utils.to_categorical(df[df['class']!=0].iloc[:, -1].values ,\n",
        "                                  num_classes= np.unique(gt).shape[0],\n",
        "                                  dtype='float32')\n",
        "\n",
        "X_train, X_test, y_train, y_test = train_test_split(X, y, train_size = 0.7, stratify = y)\n",
        "\n",
        "print(f\"Train Data: {X_train.shape}\\nTest Data: {X_test.shape}\")"
      ]
    },
    {
      "cell_type": "code",
      "execution_count": 14,
      "metadata": {
        "colab": {
          "base_uri": "https://localhost:8080/"
        },
        "execution": {
          "iopub.execute_input": "2022-03-16T09:44:36.198258Z",
          "iopub.status.busy": "2022-03-16T09:44:36.197688Z",
          "iopub.status.idle": "2022-03-16T09:44:36.434507Z",
          "shell.execute_reply": "2022-03-16T09:44:36.433604Z",
          "shell.execute_reply.started": "2022-03-16T09:44:36.198222Z"
        },
        "id": "wO9yWQPgbBQI",
        "outputId": "9811958c-6fd4-4b9e-e847-a988148777f9",
        "trusted": true
      },
      "outputs": [
        {
          "name": "stdout",
          "output_type": "stream",
          "text": [
            "Model: \"Pavia_University\"\n",
            "_________________________________________________________________\n",
            " Layer (type)                Output Shape              Param #   \n",
            "=================================================================\n",
            " BatchNormalization (BatchN  (None, 103)               412       \n",
            " ormalization)                                                   \n",
            "                                                                 \n",
            " Layer1 (Dense)              (None, 128)               13312     \n",
            "                                                                 \n",
            " Layer2 (Dense)              (None, 128)               16512     \n",
            "                                                                 \n",
            " Layer3 (Dense)              (None, 128)               16512     \n",
            "                                                                 \n",
            " Layer4 (Dense)              (None, 128)               16512     \n",
            "                                                                 \n",
            " Dropout1 (Dropout)          (None, 128)               0         \n",
            "                                                                 \n",
            " Layer5 (Dense)              (None, 64)                8256      \n",
            "                                                                 \n",
            " Layer6 (Dense)              (None, 64)                4160      \n",
            "                                                                 \n",
            " Layer7 (Dense)              (None, 64)                4160      \n",
            "                                                                 \n",
            " Layer8 (Dense)              (None, 64)                4160      \n",
            "                                                                 \n",
            " Dropout2 (Dropout)          (None, 64)                0         \n",
            "                                                                 \n",
            " Layer9 (Dense)              (None, 32)                2080      \n",
            "                                                                 \n",
            " Layer10 (Dense)             (None, 32)                1056      \n",
            "                                                                 \n",
            " Layer11 (Dense)             (None, 32)                1056      \n",
            "                                                                 \n",
            " Layer12 (Dense)             (None, 32)                1056      \n",
            "                                                                 \n",
            " Output_Layer (Dense)        (None, 10)                330       \n",
            "                                                                 \n",
            "=================================================================\n",
            "Total params: 89574 (349.90 KB)\n",
            "Trainable params: 89368 (349.09 KB)\n",
            "Non-trainable params: 206 (824.00 Byte)\n",
            "_________________________________________________________________\n"
          ]
        }
      ],
      "source": [
        "model = Sequential(name='Pavia_University')\n",
        "\n",
        "model.add(Input(shape = X_train[0].shape, name = 'Input_Layer'))\n",
        "\n",
        "model.add(BatchNormalization(name = 'BatchNormalization'))\n",
        "\n",
        "model.add(Dense(units = 128, activation= 'relu', name = 'Layer1'))\n",
        "model.add(Dense(units = 128, activation= 'relu', name = 'Layer2'))\n",
        "\n",
        "model.add(Dropout(rate = 0.2, name = 'Dropout1',))\n",
        "\n",
        "model.add(Dense(units = 64, activation= 'relu', name = 'Layer3'))\n",
        "model.add(Dense(units = 64, activation= 'relu', name = 'Layer4'))\n",
        "\n",
        "model.add(Dropout(rate = 0.2, name = 'Dropout2'))\n",
        "\n",
        "model.add(Dense(units = 32, activation= 'relu', name = 'Layer5'))\n",
        "model.add(Dense(units = 32, activation= 'relu', name = 'Layer6'))\n",
        "\n",
        "model.add(Dense(units = y_train.shape[1], activation= 'softmax', name = 'Output_Layer'))\n",
        "\n",
        "model.summary()"
      ]
    },
    {
      "cell_type": "code",
      "execution_count": 15,
      "metadata": {
        "colab": {
          "base_uri": "https://localhost:8080/"
        },
        "execution": {
          "iopub.execute_input": "2022-03-16T09:44:57.69023Z",
          "iopub.status.busy": "2022-03-16T09:44:57.689912Z",
          "iopub.status.idle": "2022-03-16T09:50:23.215306Z",
          "shell.execute_reply": "2022-03-16T09:50:23.214446Z",
          "shell.execute_reply.started": "2022-03-16T09:44:57.690197Z"
        },
        "id": "rxJGoAyfbBQI",
        "outputId": "a94fc036-ec7f-4c93-9962-44bc004ca3c2",
        "trusted": true
      },
      "outputs": [
        {
          "name": "stdout",
          "output_type": "stream",
          "text": [
            "Epoch 1/20\n",
            "936/936 [==============================] - 11s 7ms/step - loss: 0.8305 - accuracy: 0.6899 - val_loss: 0.5701 - val_accuracy: 0.7790\n",
            "Epoch 2/20\n",
            "936/936 [==============================] - 7s 7ms/step - loss: 0.5867 - accuracy: 0.7762 - val_loss: 0.4656 - val_accuracy: 0.8110\n",
            "Epoch 3/20\n",
            "936/936 [==============================] - 7s 7ms/step - loss: 0.5049 - accuracy: 0.8103 - val_loss: 0.3915 - val_accuracy: 0.8404\n",
            "Epoch 4/20\n",
            "936/936 [==============================] - 8s 9ms/step - loss: 0.4733 - accuracy: 0.8165 - val_loss: 0.3351 - val_accuracy: 0.8648\n",
            "Epoch 5/20\n",
            "936/936 [==============================] - 7s 7ms/step - loss: 0.4359 - accuracy: 0.8282 - val_loss: 0.3326 - val_accuracy: 0.8706\n",
            "Epoch 6/20\n",
            "936/936 [==============================] - 7s 7ms/step - loss: 0.4050 - accuracy: 0.8389 - val_loss: 0.3076 - val_accuracy: 0.8699\n",
            "Epoch 7/20\n",
            "936/936 [==============================] - 7s 8ms/step - loss: 0.3802 - accuracy: 0.8490 - val_loss: 0.3041 - val_accuracy: 0.8784\n",
            "Epoch 8/20\n",
            "936/936 [==============================] - 7s 7ms/step - loss: 0.3756 - accuracy: 0.8542 - val_loss: 0.2969 - val_accuracy: 0.8768\n",
            "Epoch 9/20\n",
            "936/936 [==============================] - 8s 8ms/step - loss: 0.3706 - accuracy: 0.8614 - val_loss: 0.3328 - val_accuracy: 0.8710\n",
            "Epoch 10/20\n",
            "936/936 [==============================] - 8s 9ms/step - loss: 0.3488 - accuracy: 0.8662 - val_loss: 0.2128 - val_accuracy: 0.9140\n",
            "Epoch 11/20\n",
            "936/936 [==============================] - 7s 8ms/step - loss: 0.3393 - accuracy: 0.8702 - val_loss: 0.2044 - val_accuracy: 0.9297\n",
            "Epoch 12/20\n",
            "936/936 [==============================] - 7s 8ms/step - loss: 0.3468 - accuracy: 0.8699 - val_loss: 0.2244 - val_accuracy: 0.9127\n",
            "Epoch 13/20\n",
            "936/936 [==============================] - 6s 7ms/step - loss: 0.3249 - accuracy: 0.8797 - val_loss: 0.3020 - val_accuracy: 0.8837\n",
            "Epoch 14/20\n",
            "936/936 [==============================] - 7s 8ms/step - loss: 0.3105 - accuracy: 0.8846 - val_loss: 0.2319 - val_accuracy: 0.9123\n",
            "Epoch 15/20\n",
            "936/936 [==============================] - 9s 9ms/step - loss: 0.3033 - accuracy: 0.8859 - val_loss: 0.2588 - val_accuracy: 0.8945\n",
            "Epoch 16/20\n",
            "936/936 [==============================] - 7s 7ms/step - loss: 0.2983 - accuracy: 0.8881 - val_loss: 0.1900 - val_accuracy: 0.9291\n",
            "Epoch 17/20\n",
            "936/936 [==============================] - 7s 7ms/step - loss: 0.2950 - accuracy: 0.8867 - val_loss: 0.1923 - val_accuracy: 0.9247\n",
            "Epoch 18/20\n",
            "936/936 [==============================] - 6s 7ms/step - loss: 0.3119 - accuracy: 0.8817 - val_loss: 0.1954 - val_accuracy: 0.9236\n",
            "Epoch 19/20\n",
            "936/936 [==============================] - 7s 8ms/step - loss: 0.2922 - accuracy: 0.8904 - val_loss: 0.1896 - val_accuracy: 0.9260\n",
            "Epoch 20/20\n",
            "936/936 [==============================] - 7s 8ms/step - loss: 0.2864 - accuracy: 0.8912 - val_loss: 0.2168 - val_accuracy: 0.9234\n"
          ]
        }
      ],
      "source": [
        "model.compile(optimizer = 'adam', loss = 'categorical_crossentropy', metrics = ['accuracy'])\n",
        "history = model.fit(x = X_train,\n",
        "          y = y_train,\n",
        "          validation_data = (X_test, y_test),\n",
        "          epochs = 20,\n",
        "          )"
      ]
    },
    {
      "cell_type": "code",
      "execution_count": 16,
      "metadata": {
        "colab": {
          "base_uri": "https://localhost:8080/"
        },
        "execution": {
          "iopub.execute_input": "2022-03-16T09:54:21.239778Z",
          "iopub.status.busy": "2022-03-16T09:54:21.23931Z",
          "iopub.status.idle": "2022-03-16T09:54:22.229042Z",
          "shell.execute_reply": "2022-03-16T09:54:22.228107Z",
          "shell.execute_reply.started": "2022-03-16T09:54:21.239745Z"
        },
        "id": "dDNCe9XDbBQJ",
        "outputId": "e108f25d-ab04-4a10-bd11-18374ba632b3",
        "trusted": true
      },
      "outputs": [
        {
          "name": "stdout",
          "output_type": "stream",
          "text": [
            "402/402 [==============================] - 2s 4ms/step\n",
            "                         precision    recall  f1-score   support\n",
            "\n",
            "             1. Asphalt       0.88      0.97      0.93      1802\n",
            "             2. Meadows       1.00      0.93      0.96      5970\n",
            "              3. Gravel       0.60      0.86      0.71       440\n",
            "               4. Trees       0.90      0.99      0.94       839\n",
            "5. Painted metal sheets       1.00      1.00      1.00       405\n",
            "           6. Bare Soil       0.81      0.99      0.89      1233\n",
            "             7. Bitumen       0.89      0.76      0.82       466\n",
            "8. Self-Blocking Bricks       0.95      0.75      0.84      1393\n",
            "             9. Shadows       1.00      1.00      1.00       285\n",
            "\n",
            "               accuracy                           0.92     12833\n",
            "              macro avg       0.89      0.92      0.90     12833\n",
            "           weighted avg       0.93      0.92      0.92     12833\n",
            "\n"
          ]
        }
      ],
      "source": [
        "pred = np.argmax(model.predict(X_test), axis=1)\n",
        "\n",
        "# Classification Report\n",
        "print(classification_report(pred, np.argmax(y_test, 1),\n",
        "      target_names = ['1. Asphalt', '2. Meadows', '3. Gravel', '4. Trees',\n",
        "                 '5. Painted metal sheets','6. Bare Soil', '7. Bitumen',\n",
        "                 '8. Self-Blocking Bricks', '9. Shadows']))"
      ]
    }
  ],
  "metadata": {
    "accelerator": "GPU",
    "colab": {
      "gpuType": "T4",
      "name": "Hyperspectral Classification",
      "provenance": []
    },
    "kernelspec": {
      "display_name": "Python 3",
      "name": "python3"
    },
    "language_info": {
      "codemirror_mode": {
        "name": "ipython",
        "version": 3
      },
      "file_extension": ".py",
      "mimetype": "text/x-python",
      "name": "python",
      "nbconvert_exporter": "python",
      "pygments_lexer": "ipython3",
      "version": "3.6.4"
    }
  },
  "nbformat": 4,
  "nbformat_minor": 0
}
