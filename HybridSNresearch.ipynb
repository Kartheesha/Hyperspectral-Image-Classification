{
  "metadata": {
    "kernelspec": {
      "display_name": "Python 3",
      "name": "python3"
    },
    "language_info": {
      "pygments_lexer": "ipython3",
      "nbconvert_exporter": "python",
      "version": "3.6.4",
      "file_extension": ".py",
      "codemirror_mode": {
        "name": "ipython",
        "version": 3
      },
      "name": "python",
      "mimetype": "text/x-python"
    },
    "colab": {
      "name": "HyperSpectral PaviaU",
      "provenance": [],
      "gpuType": "T4"
    },
    "accelerator": "GPU"
  },
  "nbformat_minor": 0,
  "nbformat": 4,
  "cells": [
    {
      "cell_type": "code",
      "source": [
        "import tensorflow as tf\n",
        "import keras\n",
        "from keras.layers import Conv2D, Conv3D, Flatten, Dense, Reshape, BatchNormalization\n",
        "from keras.layers import Dropout, Input\n",
        "from keras.models import Model\n",
        "from tensorflow.keras.optimizers import Adam\n",
        "from keras import utils\n",
        "from sklearn.decomposition import PCA\n",
        "from sklearn.model_selection import train_test_split\n",
        "from sklearn.metrics import classification_report\n",
        "from scipy.io import loadmat\n",
        "import numpy as np\n",
        "import scipy.io as sio"
      ],
      "metadata": {
        "execution": {
          "iopub.status.busy": "2022-12-30T15:40:42.517044Z",
          "iopub.execute_input": "2022-12-30T15:40:42.517531Z",
          "iopub.status.idle": "2022-12-30T15:40:50.768612Z",
          "shell.execute_reply.started": "2022-12-30T15:40:42.517431Z",
          "shell.execute_reply": "2022-12-30T15:40:50.767775Z"
        },
        "trusted": true,
        "id": "7OoOu8Wx3b2K"
      },
      "execution_count": 1,
      "outputs": []
    },
    {
      "cell_type": "code",
      "source": [
        "\n",
        "X=loadmat('/content/PaviaU.mat')['paviaU']\n",
        "y=loadmat('/content/PaviaU_gt.mat')['paviaU_gt']\n",
        ""
      ],
      "metadata": {
        "execution": {
          "iopub.status.busy": "2022-12-30T15:40:50.770249Z",
          "iopub.execute_input": "2022-12-30T15:40:50.771605Z",
          "iopub.status.idle": "2022-12-30T15:40:51.877815Z",
          "shell.execute_reply.started": "2022-12-30T15:40:50.771553Z",
          "shell.execute_reply": "2022-12-30T15:40:51.876803Z"
        },
        "trusted": true,
        "id": "u05_aOT03b2L"
      },
      "execution_count": 2,
      "outputs": []
    },
    {
      "cell_type": "code",
      "source": [
        "dataset='PU'\n",
        "test_ratio=0.2\n",
        "pixelsize=25"
      ],
      "metadata": {
        "execution": {
          "iopub.status.busy": "2022-12-30T15:40:51.879436Z",
          "iopub.execute_input": "2022-12-30T15:40:51.880605Z",
          "iopub.status.idle": "2022-12-30T15:40:51.887059Z",
          "shell.execute_reply.started": "2022-12-30T15:40:51.880561Z",
          "shell.execute_reply": "2022-12-30T15:40:51.885494Z"
        },
        "trusted": true,
        "id": "tDRsi3hL3b2M"
      },
      "execution_count": 3,
      "outputs": []
    },
    {
      "cell_type": "code",
      "source": [
        "def padWithZeros(X, margin=2):\n",
        "    newX = np.zeros((X.shape[0] + 2 * margin, X.shape[1] + 2* margin, X.shape[2]))\n",
        "    x_offset = margin\n",
        "    y_offset = margin\n",
        "    newX[x_offset:X.shape[0] + x_offset, y_offset:X.shape[1] + y_offset, :] = X\n",
        "    return newX"
      ],
      "metadata": {
        "execution": {
          "iopub.status.busy": "2022-12-30T15:40:51.890039Z",
          "iopub.execute_input": "2022-12-30T15:40:51.890951Z",
          "iopub.status.idle": "2022-12-30T15:40:51.900623Z",
          "shell.execute_reply.started": "2022-12-30T15:40:51.890912Z",
          "shell.execute_reply": "2022-12-30T15:40:51.8991Z"
        },
        "trusted": true,
        "id": "6Pcu-2mT3b2N"
      },
      "execution_count": 4,
      "outputs": []
    },
    {
      "cell_type": "code",
      "source": [
        "def splitTrainTestSet(X, y, testRatio, randomState=345):\n",
        "    X_train, X_test, y_train, y_test = train_test_split(X, y, test_size=testRatio, random_state=randomState,\n",
        "                                                        stratify=y)\n",
        "    return X_train, X_test, y_train, y_test"
      ],
      "metadata": {
        "execution": {
          "iopub.status.busy": "2022-12-30T15:40:51.904083Z",
          "iopub.execute_input": "2022-12-30T15:40:51.904981Z",
          "iopub.status.idle": "2022-12-30T15:40:51.914256Z",
          "shell.execute_reply.started": "2022-12-30T15:40:51.904937Z",
          "shell.execute_reply": "2022-12-30T15:40:51.913177Z"
        },
        "trusted": true,
        "id": "4yms3_aN3b2N"
      },
      "execution_count": 5,
      "outputs": []
    },
    {
      "cell_type": "code",
      "source": [
        "def applyPCA(X, numComponents=75):\n",
        "    newX = np.reshape(X, (-1, X.shape[2]))\n",
        "    pca = PCA(n_components=numComponents, whiten=True)\n",
        "    newX = pca.fit_transform(newX)\n",
        "    newX = np.reshape(newX, (X.shape[0],X.shape[1], numComponents))\n",
        "    return newX, pca"
      ],
      "metadata": {
        "execution": {
          "iopub.status.busy": "2022-12-30T15:40:51.918196Z",
          "iopub.execute_input": "2022-12-30T15:40:51.918885Z",
          "iopub.status.idle": "2022-12-30T15:40:51.92825Z",
          "shell.execute_reply.started": "2022-12-30T15:40:51.918811Z",
          "shell.execute_reply": "2022-12-30T15:40:51.92682Z"
        },
        "trusted": true,
        "id": "azlanIAT3b2O"
      },
      "execution_count": 6,
      "outputs": []
    },
    {
      "cell_type": "code",
      "source": [
        "def createImageCubes(X, y, windowSize=5, removeZeroLabels = True):\n",
        "    margin = int((windowSize - 1) / 2)\n",
        "    zeroPaddedX = padWithZeros(X, margin=margin)\n",
        "    # split patches\n",
        "    patchesData = np.zeros((X.shape[0] * X.shape[1], windowSize, windowSize, X.shape[2]))\n",
        "    patchesLabels = np.zeros((X.shape[0] * X.shape[1]))\n",
        "    patchIndex = 0\n",
        "    for r in range(margin, zeroPaddedX.shape[0] - margin):\n",
        "        for c in range(margin, zeroPaddedX.shape[1] - margin):\n",
        "            patch = zeroPaddedX[r - margin:r + margin + 1, c - margin:c + margin + 1]\n",
        "            patchesData[patchIndex, :, :, :] = patch\n",
        "            patchesLabels[patchIndex] = y[r-margin, c-margin]\n",
        "            patchIndex = patchIndex + 1\n",
        "    if removeZeroLabels:\n",
        "        patchesData = patchesData[patchesLabels>0,:,:,:]\n",
        "        patchesLabels = patchesLabels[patchesLabels>0]\n",
        "        patchesLabels -= 1\n",
        "    return patchesData, patchesLabels"
      ],
      "metadata": {
        "execution": {
          "iopub.status.busy": "2022-12-30T15:40:51.930278Z",
          "iopub.execute_input": "2022-12-30T15:40:51.930782Z",
          "iopub.status.idle": "2022-12-30T15:40:51.944264Z",
          "shell.execute_reply.started": "2022-12-30T15:40:51.930733Z",
          "shell.execute_reply": "2022-12-30T15:40:51.943226Z"
        },
        "trusted": true,
        "id": "Tr0C_1tJ3b2O"
      },
      "execution_count": 7,
      "outputs": []
    },
    {
      "cell_type": "code",
      "source": [
        "X.shape, y.shape"
      ],
      "metadata": {
        "execution": {
          "iopub.status.busy": "2022-12-30T15:40:51.945599Z",
          "iopub.execute_input": "2022-12-30T15:40:51.946815Z",
          "iopub.status.idle": "2022-12-30T15:40:51.970856Z",
          "shell.execute_reply.started": "2022-12-30T15:40:51.946749Z",
          "shell.execute_reply": "2022-12-30T15:40:51.969582Z"
        },
        "trusted": true,
        "id": "--rEL4dP3b2P",
        "outputId": "44fe7c83-8a62-4bce-bc10-2ded79979903",
        "colab": {
          "base_uri": "https://localhost:8080/"
        }
      },
      "execution_count": 8,
      "outputs": [
        {
          "output_type": "execute_result",
          "data": {
            "text/plain": [
              "((610, 340, 103), (610, 340))"
            ]
          },
          "metadata": {},
          "execution_count": 8
        }
      ]
    },
    {
      "cell_type": "code",
      "source": [
        "X,pca=applyPCA(X,numComponents=9)\n",
        "X.shape"
      ],
      "metadata": {
        "execution": {
          "iopub.status.busy": "2022-12-30T15:40:51.990262Z",
          "iopub.execute_input": "2022-12-30T15:40:51.990871Z",
          "iopub.status.idle": "2022-12-30T15:40:54.645176Z",
          "shell.execute_reply.started": "2022-12-30T15:40:51.990834Z",
          "shell.execute_reply": "2022-12-30T15:40:54.64403Z"
        },
        "trusted": true,
        "id": "PSc_hF8M3b2Q",
        "outputId": "9d448cab-293b-4cf6-e552-b790a0e0c2a8",
        "colab": {
          "base_uri": "https://localhost:8080/"
        }
      },
      "execution_count": 9,
      "outputs": [
        {
          "output_type": "execute_result",
          "data": {
            "text/plain": [
              "(610, 340, 9)"
            ]
          },
          "metadata": {},
          "execution_count": 9
        }
      ]
    },
    {
      "cell_type": "code",
      "source": [
        "X, y = createImageCubes(X, y, windowSize=25)\n",
        "\n",
        "X.shape, y.shape"
      ],
      "metadata": {
        "execution": {
          "iopub.status.busy": "2022-12-30T15:40:54.646316Z",
          "iopub.execute_input": "2022-12-30T15:40:54.646621Z",
          "iopub.status.idle": "2022-12-30T15:41:09.989977Z",
          "shell.execute_reply.started": "2022-12-30T15:40:54.646594Z",
          "shell.execute_reply": "2022-12-30T15:41:09.988469Z"
        },
        "trusted": true,
        "id": "1giAyb1H3b2Q",
        "outputId": "39e75e8c-f750-442e-96ff-5e55a3371c51",
        "colab": {
          "base_uri": "https://localhost:8080/"
        }
      },
      "execution_count": 10,
      "outputs": [
        {
          "output_type": "execute_result",
          "data": {
            "text/plain": [
              "((42776, 25, 25, 9), (42776,))"
            ]
          },
          "metadata": {},
          "execution_count": 10
        }
      ]
    },
    {
      "cell_type": "code",
      "source": [
        "Xtrain, Xtest, ytrain, ytest = splitTrainTestSet(X, y, test_ratio)\n",
        "Xtrain.shape, Xtest.shape, ytrain.shape, ytest.shape"
      ],
      "metadata": {
        "execution": {
          "iopub.status.busy": "2022-12-30T15:41:09.99509Z",
          "iopub.execute_input": "2022-12-30T15:41:09.996134Z"
        },
        "trusted": true,
        "id": "gwFY521a3b2R",
        "outputId": "3a863fc5-6d43-4459-85b7-90df07934fca",
        "colab": {
          "base_uri": "https://localhost:8080/"
        }
      },
      "execution_count": 11,
      "outputs": [
        {
          "output_type": "execute_result",
          "data": {
            "text/plain": [
              "((34220, 25, 25, 9), (8556, 25, 25, 9), (34220,), (8556,))"
            ]
          },
          "metadata": {},
          "execution_count": 11
        }
      ]
    },
    {
      "cell_type": "code",
      "source": [
        "Xtrain, Xvalid, ytrain, yvalid = splitTrainTestSet(Xtrain, ytrain, 0.1)\n",
        "\n",
        "Xtrain.shape, Xvalid.shape, ytrain.shape, yvalid.shape"
      ],
      "metadata": {
        "trusted": true,
        "id": "dCesdiWS3b2R",
        "outputId": "86a590e7-72e9-40e9-8e33-668ebbe8caf0",
        "colab": {
          "base_uri": "https://localhost:8080/"
        }
      },
      "execution_count": 12,
      "outputs": [
        {
          "output_type": "execute_result",
          "data": {
            "text/plain": [
              "((30798, 25, 25, 9), (3422, 25, 25, 9), (30798,), (3422,))"
            ]
          },
          "metadata": {},
          "execution_count": 12
        }
      ]
    },
    {
      "cell_type": "code",
      "source": [
        "Xtrain = Xtrain.reshape(-1, pixelsize, pixelsize, 9, 1)\n",
        "Xtrain.shape"
      ],
      "metadata": {
        "trusted": true,
        "id": "vnLO2BhI3b2R",
        "outputId": "c2e46952-8479-423b-9661-1452bbe7d3f8",
        "colab": {
          "base_uri": "https://localhost:8080/"
        }
      },
      "execution_count": 14,
      "outputs": [
        {
          "output_type": "execute_result",
          "data": {
            "text/plain": [
              "(30798, 25, 25, 9, 1)"
            ]
          },
          "metadata": {},
          "execution_count": 14
        }
      ]
    },
    {
      "cell_type": "code",
      "source": [
        "ytrain = utils.to_categorical(ytrain)\n",
        "ytrain.shape"
      ],
      "metadata": {
        "trusted": true,
        "id": "Ss-4lD2C3b2R",
        "outputId": "46e7a382-ce42-4e92-84d3-d6e21f252c00",
        "colab": {
          "base_uri": "https://localhost:8080/"
        }
      },
      "execution_count": 15,
      "outputs": [
        {
          "output_type": "execute_result",
          "data": {
            "text/plain": [
              "(30798, 9)"
            ]
          },
          "metadata": {},
          "execution_count": 15
        }
      ]
    },
    {
      "cell_type": "code",
      "source": [
        "Xvalid = Xvalid.reshape(-1, pixelsize, pixelsize, 9, 1)\n",
        "Xvalid.shape"
      ],
      "metadata": {
        "trusted": true,
        "id": "xegJv_vg3b2S",
        "outputId": "d4a6b875-cb0b-4951-b59e-c96a55c847bd",
        "colab": {
          "base_uri": "https://localhost:8080/"
        }
      },
      "execution_count": 16,
      "outputs": [
        {
          "output_type": "execute_result",
          "data": {
            "text/plain": [
              "(3422, 25, 25, 9, 1)"
            ]
          },
          "metadata": {},
          "execution_count": 16
        }
      ]
    },
    {
      "cell_type": "code",
      "source": [
        "yvalid=utils.to_categorical(yvalid)\n",
        "yvalid.shape"
      ],
      "metadata": {
        "trusted": true,
        "id": "zySsAPlK3b2S",
        "outputId": "5063ce2a-c492-48c6-b9e1-bc90e13621eb",
        "colab": {
          "base_uri": "https://localhost:8080/"
        }
      },
      "execution_count": 18,
      "outputs": [
        {
          "output_type": "execute_result",
          "data": {
            "text/plain": [
              "(3422, 9)"
            ]
          },
          "metadata": {},
          "execution_count": 18
        }
      ]
    },
    {
      "cell_type": "code",
      "source": [
        "input_layer=Input((25,25,9,1))\n",
        "conv_layer1 = Conv3D(filters=8, kernel_size=(3, 3, 7), activation='relu')(input_layer)\n",
        "conv_layer3 = Conv3D(filters=32, kernel_size=(3, 3, 3), activation='relu')(conv_layer1)\n",
        "conv3d_shape = conv_layer3.shape\n",
        "conv_layer3 = Reshape((conv3d_shape[1], conv3d_shape[2], conv3d_shape[3]*conv3d_shape[4]))(conv_layer3)\n",
        "conv_layer4 = Conv2D(filters=64, kernel_size=(3,3), activation='relu')(conv_layer3)\n",
        "flatten_layer = Flatten()(conv_layer4)\n",
        "dense_layer1 = Dense(units=256, activation='relu')(flatten_layer)\n",
        "dense_layer1 = Dropout(0.4)(dense_layer1)\n",
        "dense_layer2 = Dense(units=128, activation='relu')(dense_layer1)\n",
        "dense_layer2 = Dropout(0.4)(dense_layer2)\n",
        "output_layer = Dense(units=9, activation='softmax')(dense_layer2)"
      ],
      "metadata": {
        "trusted": true,
        "id": "qiyMVjT_3b2S",
        "outputId": "30c2899d-28b2-4cc7-f9a7-a97274add49b",
        "colab": {
          "base_uri": "https://localhost:8080/"
        }
      },
      "execution_count": 23,
      "outputs": [
        {
          "output_type": "stream",
          "name": "stdout",
          "text": [
            "(None, 21, 21, 1, 32)\n"
          ]
        }
      ]
    },
    {
      "cell_type": "code",
      "source": [
        "model=Model(inputs=input_layer,outputs=output_layer)\n"
      ],
      "metadata": {
        "trusted": true,
        "id": "g4es1BzG3b2T"
      },
      "execution_count": 24,
      "outputs": []
    },
    {
      "cell_type": "code",
      "source": [
        "model.summary()"
      ],
      "metadata": {
        "trusted": true,
        "id": "5g8TSjog3b2T",
        "outputId": "2dfb9a5e-bd94-4799-cff8-15c53f586d1a",
        "colab": {
          "base_uri": "https://localhost:8080/"
        }
      },
      "execution_count": 25,
      "outputs": [
        {
          "output_type": "stream",
          "name": "stdout",
          "text": [
            "Model: \"model\"\n",
            "_________________________________________________________________\n",
            " Layer (type)                Output Shape              Param #   \n",
            "=================================================================\n",
            " input_5 (InputLayer)        [(None, 25, 25, 9, 1)]    0         \n",
            "                                                                 \n",
            " conv3d_9 (Conv3D)           (None, 23, 23, 3, 8)      512       \n",
            "                                                                 \n",
            " conv3d_10 (Conv3D)          (None, 21, 21, 1, 32)     6944      \n",
            "                                                                 \n",
            " reshape (Reshape)           (None, 21, 21, 32)        0         \n",
            "                                                                 \n",
            " conv2d (Conv2D)             (None, 19, 19, 64)        18496     \n",
            "                                                                 \n",
            " flatten (Flatten)           (None, 23104)             0         \n",
            "                                                                 \n",
            " dense (Dense)               (None, 256)               5914880   \n",
            "                                                                 \n",
            " dropout (Dropout)           (None, 256)               0         \n",
            "                                                                 \n",
            " dense_1 (Dense)             (None, 128)               32896     \n",
            "                                                                 \n",
            " dropout_1 (Dropout)         (None, 128)               0         \n",
            "                                                                 \n",
            " dense_2 (Dense)             (None, 9)                 1161      \n",
            "                                                                 \n",
            "=================================================================\n",
            "Total params: 5974889 (22.79 MB)\n",
            "Trainable params: 5974889 (22.79 MB)\n",
            "Non-trainable params: 0 (0.00 Byte)\n",
            "_________________________________________________________________\n"
          ]
        }
      ]
    },
    {
      "cell_type": "markdown",
      "source": [],
      "metadata": {
        "id": "PO34ep5P3b2T"
      }
    },
    {
      "cell_type": "code",
      "source": [
        "adam=Adam(learning_rate=0.01)\n",
        "model.compile(optimizer=adam,loss='categorical_crossentropy',metrics=['accuracy'])"
      ],
      "metadata": {
        "trusted": true,
        "id": "erEeGVRZ3b2V"
      },
      "execution_count": 27,
      "outputs": []
    },
    {
      "cell_type": "code",
      "source": [
        "history=model.fit(x=Xtrain,y=ytrain,validation_data=(Xvalid,yvalid),batch_size=256,epochs=10)"
      ],
      "metadata": {
        "trusted": true,
        "id": "x8xn1Xmx3b2W",
        "outputId": "51820c36-b731-497c-bd1a-dd31511dfbc2",
        "colab": {
          "base_uri": "https://localhost:8080/"
        }
      },
      "execution_count": 28,
      "outputs": [
        {
          "output_type": "stream",
          "name": "stdout",
          "text": [
            "Epoch 1/10\n",
            "121/121 [==============================] - 11s 28ms/step - loss: 1.6370 - accuracy: 0.6219 - val_loss: 0.4499 - val_accuracy: 0.8194\n",
            "Epoch 2/10\n",
            "121/121 [==============================] - 2s 19ms/step - loss: 0.4452 - accuracy: 0.8314 - val_loss: 0.3093 - val_accuracy: 0.8749\n",
            "Epoch 3/10\n",
            "121/121 [==============================] - 2s 20ms/step - loss: 0.3115 - accuracy: 0.8868 - val_loss: 0.1592 - val_accuracy: 0.9416\n",
            "Epoch 4/10\n",
            "121/121 [==============================] - 2s 21ms/step - loss: 0.2126 - accuracy: 0.9242 - val_loss: 0.1280 - val_accuracy: 0.9568\n",
            "Epoch 5/10\n",
            "121/121 [==============================] - 2s 20ms/step - loss: 0.2456 - accuracy: 0.9193 - val_loss: 0.0999 - val_accuracy: 0.9658\n",
            "Epoch 6/10\n",
            "121/121 [==============================] - 2s 20ms/step - loss: 0.1433 - accuracy: 0.9515 - val_loss: 0.0613 - val_accuracy: 0.9798\n",
            "Epoch 7/10\n",
            "121/121 [==============================] - 2s 20ms/step - loss: 0.1159 - accuracy: 0.9624 - val_loss: 0.0478 - val_accuracy: 0.9828\n",
            "Epoch 8/10\n",
            "121/121 [==============================] - 2s 20ms/step - loss: 0.0984 - accuracy: 0.9668 - val_loss: 0.0515 - val_accuracy: 0.9813\n",
            "Epoch 9/10\n",
            "121/121 [==============================] - 2s 21ms/step - loss: 0.0743 - accuracy: 0.9757 - val_loss: 0.0607 - val_accuracy: 0.9819\n",
            "Epoch 10/10\n",
            "121/121 [==============================] - 2s 20ms/step - loss: 0.0834 - accuracy: 0.9739 - val_loss: 0.0272 - val_accuracy: 0.9915\n"
          ]
        }
      ]
    },
    {
      "cell_type": "code",
      "source": [
        "Xtest=Xtest.reshape(-1,pixelsize,pixelsize,9,1)\n",
        "Xtest.shape"
      ],
      "metadata": {
        "trusted": true,
        "id": "AuYQj0Qs3b2Y",
        "outputId": "8dba245c-d69a-43a6-afbe-fc0747aa738b",
        "colab": {
          "base_uri": "https://localhost:8080/"
        }
      },
      "execution_count": 30,
      "outputs": [
        {
          "output_type": "execute_result",
          "data": {
            "text/plain": [
              "(8556, 25, 25, 9, 1)"
            ]
          },
          "metadata": {},
          "execution_count": 30
        }
      ]
    },
    {
      "cell_type": "code",
      "source": [
        "ytest=utils.to_categorical(ytest)\n",
        "ytest.shape"
      ],
      "metadata": {
        "trusted": true,
        "id": "2joEtKVt3b2Y",
        "outputId": "ea63ae60-ecdd-437a-8281-c6c659f4d13e",
        "colab": {
          "base_uri": "https://localhost:8080/"
        }
      },
      "execution_count": 31,
      "outputs": [
        {
          "output_type": "execute_result",
          "data": {
            "text/plain": [
              "(8556, 9)"
            ]
          },
          "metadata": {},
          "execution_count": 31
        }
      ]
    },
    {
      "cell_type": "code",
      "source": [
        "Y_pred_test=model.predict(Xtest)\n",
        "Y_pred_test=np.argmax(Y_pred_test,axis=1)\n",
        "classification= classification_report(np.argmax(ytest,axis=1),Y_pred_test)\n",
        "print(classification)"
      ],
      "metadata": {
        "trusted": true,
        "id": "RpDgJkG_3b2Y",
        "outputId": "53f255b8-1d8a-4e69-9c60-2ade8858aec0",
        "colab": {
          "base_uri": "https://localhost:8080/"
        }
      },
      "execution_count": 32,
      "outputs": [
        {
          "output_type": "stream",
          "name": "stdout",
          "text": [
            "268/268 [==============================] - 2s 4ms/step\n",
            "              precision    recall  f1-score   support\n",
            "\n",
            "           0       0.98      0.98      0.98      1326\n",
            "           1       1.00      1.00      1.00      3730\n",
            "           2       0.95      0.96      0.95       420\n",
            "           3       0.99      1.00      0.99       613\n",
            "           4       0.99      1.00      0.99       269\n",
            "           5       1.00      1.00      1.00      1006\n",
            "           6       0.97      0.98      0.98       266\n",
            "           7       1.00      0.99      0.99       737\n",
            "           8       0.98      0.95      0.97       189\n",
            "\n",
            "    accuracy                           0.99      8556\n",
            "   macro avg       0.98      0.98      0.98      8556\n",
            "weighted avg       0.99      0.99      0.99      8556\n",
            "\n"
          ]
        }
      ]
    }
  ]
}